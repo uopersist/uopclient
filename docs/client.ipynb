{
 "cells": [
  {
   "cell_type": "code",
   "execution_count": 13,
   "metadata": {},
   "outputs": [],
   "source": [
    "from uop_client import web_client as wc\n",
    "client = wc.UOPWebClient()\n",
    "#from uop import db_service\n",
    "#service = db_service.get_service('mongo', 'foobar')\n",
    "#user = service.register_tenant('PKM_app', 'PKM_app', 'sjatkins+foobar@gmail.com')\n",
    "#dbi = service.tenant_interface(user['_id'])\n",
    "#meta = dbi.metadata()\n",
    "#meta\n"
   ]
  },
  {
   "cell_type": "code",
   "execution_count": 2,
   "metadata": {},
   "outputs": [
    {
     "data": {
      "text/plain": [
       "{'_id': '6120684fafa34ff19956958dd5d6ffbe',\n",
       " 'username': 'PKM_app',\n",
       " 'email': 'info@conceptwareinc.com',\n",
       " 'is_admin': False,\n",
       " 'isAdmin': True,\n",
       " 'collections_map': {'tags': 'tags',\n",
       "  'classes': 'classes',\n",
       "  'attributes': 'attributes',\n",
       "  'roles': 'roles',\n",
       "  'groups': 'groups',\n",
       "  'queries': 'queries',\n",
       "  'tagged': 'HrYLYXiA',\n",
       "  'grouped': 'ceyzxkO4',\n",
       "  'related': 'z2Lfdh9o2',\n",
       "  'changes': 'BjVquxVN'}}"
      ]
     },
     "execution_count": 2,
     "metadata": {},
     "output_type": "execute_result"
    }
   ],
   "source": [
    "user"
   ]
  },
  {
   "cell_type": "code",
   "execution_count": 16,
   "metadata": {},
   "outputs": [],
   "source": [
    "samantha5 = client.login_tenant('samantha5', 'g0dd3ss')"
   ]
  },
  {
   "cell_type": "code",
   "execution_count": 12,
   "metadata": {},
   "outputs": [
    {
     "name": "stdout",
     "output_type": "stream",
     "text": [
      "> \u001b[0;32m/usr/lib/python3.8/json/decoder.py\u001b[0m(340)\u001b[0;36mdecode\u001b[0;34m()\u001b[0m\n",
      "\u001b[0;32m    338 \u001b[0;31m        \u001b[0mend\u001b[0m \u001b[0;34m=\u001b[0m \u001b[0m_w\u001b[0m\u001b[0;34m(\u001b[0m\u001b[0ms\u001b[0m\u001b[0;34m,\u001b[0m \u001b[0mend\u001b[0m\u001b[0;34m)\u001b[0m\u001b[0;34m.\u001b[0m\u001b[0mend\u001b[0m\u001b[0;34m(\u001b[0m\u001b[0;34m)\u001b[0m\u001b[0;34m\u001b[0m\u001b[0;34m\u001b[0m\u001b[0m\n",
      "\u001b[0m\u001b[0;32m    339 \u001b[0;31m        \u001b[0;32mif\u001b[0m \u001b[0mend\u001b[0m \u001b[0;34m!=\u001b[0m \u001b[0mlen\u001b[0m\u001b[0;34m(\u001b[0m\u001b[0ms\u001b[0m\u001b[0;34m)\u001b[0m\u001b[0;34m:\u001b[0m\u001b[0;34m\u001b[0m\u001b[0;34m\u001b[0m\u001b[0m\n",
      "\u001b[0m\u001b[0;32m--> 340 \u001b[0;31m            \u001b[0;32mraise\u001b[0m \u001b[0mJSONDecodeError\u001b[0m\u001b[0;34m(\u001b[0m\u001b[0;34m\"Extra data\"\u001b[0m\u001b[0;34m,\u001b[0m \u001b[0ms\u001b[0m\u001b[0;34m,\u001b[0m \u001b[0mend\u001b[0m\u001b[0;34m)\u001b[0m\u001b[0;34m\u001b[0m\u001b[0;34m\u001b[0m\u001b[0m\n",
      "\u001b[0m\u001b[0;32m    341 \u001b[0;31m        \u001b[0;32mreturn\u001b[0m \u001b[0mobj\u001b[0m\u001b[0;34m\u001b[0m\u001b[0;34m\u001b[0m\u001b[0m\n",
      "\u001b[0m\u001b[0;32m    342 \u001b[0;31m\u001b[0;34m\u001b[0m\u001b[0m\n",
      "\u001b[0m\n"
     ]
    },
    {
     "name": "stdin",
     "output_type": "stream",
     "text": [
      "ipdb>  print s\n"
     ]
    },
    {
     "name": "stdout",
     "output_type": "stream",
     "text": [
      "*** SyntaxError: Missing parentheses in call to 'print'. Did you mean print(s)?\n"
     ]
    },
    {
     "name": "stdin",
     "output_type": "stream",
     "text": [
      "ipdb>  print(s)\n"
     ]
    },
    {
     "name": "stdout",
     "output_type": "stream",
     "text": [
      "500 Internal Server Error\n",
      "\n",
      "Server got itself in trouble\n"
     ]
    },
    {
     "name": "stdin",
     "output_type": "stream",
     "text": [
      "ipdb>  q\n"
     ]
    }
   ],
   "source": [
    "%debug"
   ]
  },
  {
   "cell_type": "code",
   "execution_count": 17,
   "metadata": {},
   "outputs": [
    {
     "ename": "KeyError",
     "evalue": "'isAdmin'",
     "output_type": "error",
     "traceback": [
      "\u001b[0;31m---------------------------------------------------------------------------\u001b[0m",
      "\u001b[0;31mKeyError\u001b[0m                                  Traceback (most recent call last)",
      "\u001b[0;32m<ipython-input-17-c241213d9a81>\u001b[0m in \u001b[0;36m<module>\u001b[0;34m\u001b[0m\n\u001b[0;32m----> 1\u001b[0;31m \u001b[0mfoobar\u001b[0m \u001b[0;34m=\u001b[0m \u001b[0mclient\u001b[0m\u001b[0;34m.\u001b[0m\u001b[0mregister_tenant\u001b[0m\u001b[0;34m(\u001b[0m\u001b[0;34m'foobar'\u001b[0m\u001b[0;34m,\u001b[0m \u001b[0;34m'foobar'\u001b[0m\u001b[0;34m,\u001b[0m \u001b[0;34m'samanth+foobar@gmail.com'\u001b[0m\u001b[0;34m)\u001b[0m\u001b[0;34m\u001b[0m\u001b[0;34m\u001b[0m\u001b[0m\n\u001b[0m",
      "\u001b[0;32m~/work/cw/uop-client/uop_client/web_client.py\u001b[0m in \u001b[0;36mregister_tenant\u001b[0;34m(self, username, password, email)\u001b[0m\n\u001b[1;32m     76\u001b[0m         self._user = self.post('register',\n\u001b[1;32m     77\u001b[0m                                data=dict(username=username, password=self._encrypt(password), email=email))\n\u001b[0;32m---> 78\u001b[0;31m         \u001b[0mself\u001b[0m\u001b[0;34m.\u001b[0m\u001b[0m_is_admin\u001b[0m \u001b[0;34m=\u001b[0m \u001b[0mself\u001b[0m\u001b[0;34m.\u001b[0m\u001b[0m_user\u001b[0m\u001b[0;34m[\u001b[0m\u001b[0;34m'isAdmin'\u001b[0m\u001b[0;34m]\u001b[0m\u001b[0;34m\u001b[0m\u001b[0;34m\u001b[0m\u001b[0m\n\u001b[0m\u001b[1;32m     79\u001b[0m         \u001b[0;32mreturn\u001b[0m \u001b[0mself\u001b[0m\u001b[0;34m.\u001b[0m\u001b[0m_user\u001b[0m\u001b[0;34m\u001b[0m\u001b[0;34m\u001b[0m\u001b[0m\n\u001b[1;32m     80\u001b[0m \u001b[0;34m\u001b[0m\u001b[0m\n",
      "\u001b[0;31mKeyError\u001b[0m: 'isAdmin'"
     ]
    }
   ],
   "source": [
    "foobar = client.register_tenant('foobar', 'foobar', 'samanth+foobar@gmail.com')"
   ]
  },
  {
   "cell_type": "code",
   "execution_count": null,
   "metadata": {},
   "outputs": [
    {
     "name": "stdout",
     "output_type": "stream",
     "text": [
      "> \u001b[0;32m/home/samantha/work/cw/uop-client/uop_client/web_client.py\u001b[0m(78)\u001b[0;36mregister_tenant\u001b[0;34m()\u001b[0m\n",
      "\u001b[0;32m     76 \u001b[0;31m        self._user = self.post('register',\n",
      "\u001b[0m\u001b[0;32m     77 \u001b[0;31m                               data=dict(username=username, password=self._encrypt(password), email=email))\n",
      "\u001b[0m\u001b[0;32m---> 78 \u001b[0;31m        \u001b[0mself\u001b[0m\u001b[0;34m.\u001b[0m\u001b[0m_is_admin\u001b[0m \u001b[0;34m=\u001b[0m \u001b[0mself\u001b[0m\u001b[0;34m.\u001b[0m\u001b[0m_user\u001b[0m\u001b[0;34m[\u001b[0m\u001b[0;34m'isAdmin'\u001b[0m\u001b[0;34m]\u001b[0m\u001b[0;34m\u001b[0m\u001b[0;34m\u001b[0m\u001b[0m\n",
      "\u001b[0m\u001b[0;32m     79 \u001b[0;31m        \u001b[0;32mreturn\u001b[0m \u001b[0mself\u001b[0m\u001b[0;34m.\u001b[0m\u001b[0m_user\u001b[0m\u001b[0;34m\u001b[0m\u001b[0;34m\u001b[0m\u001b[0m\n",
      "\u001b[0m\u001b[0;32m     80 \u001b[0;31m\u001b[0;34m\u001b[0m\u001b[0m\n",
      "\u001b[0m\n"
     ]
    },
    {
     "name": "stdin",
     "output_type": "stream",
     "text": [
      "ipdb>  self._user\n"
     ]
    },
    {
     "name": "stdout",
     "output_type": "stream",
     "text": [
      "{}\n"
     ]
    }
   ],
   "source": [
    "%debug"
   ]
  },
  {
   "cell_type": "code",
   "execution_count": 14,
   "metadata": {},
   "outputs": [
    {
     "name": "stdout",
     "output_type": "stream",
     "text": [
      "1\n",
      "dict_keys(['_id', 'name', 'attributes', 'classes', 'description', 'admin_user'])\n",
      "6120684fafa34ff19956958dd5d6ffbe\n"
     ]
    },
    {
     "data": {
      "text/plain": [
       "{('PersistentObject', 'r00t'): {'_id': 'r00t',\n",
       "  'name': 'PersistentObject',\n",
       "  'description': None,\n",
       "  'mutable': False,\n",
       "  'no_delete': False,\n",
       "  'superclass': None,\n",
       "  'attrs': ['1'],\n",
       "  '_userId': '6120684fafa34ff19956958dd5d6ffbe',\n",
       "  'extension_name': 'f2NlYjWs',\n",
       "  'appDefined': True},\n",
       " ('DescribedComponent', 'z2bYAxC'): {'_id': 'z2bYAxC',\n",
       "  'name': 'DescribedComponent',\n",
       "  'description': None,\n",
       "  'mutable': False,\n",
       "  'no_delete': True,\n",
       "  'superclass': 'r00t',\n",
       "  'attrs': ['1', 'z3fccCT', 'z29C1F6'],\n",
       "  '_userId': '6120684fafa34ff19956958dd5d6ffbe',\n",
       "  'extension_name': 'TntAmgaH',\n",
       "  'appDefined': True},\n",
       " ('WebURL', 'z1qDwX6'): {'_id': 'z1qDwX6',\n",
       "  'name': 'WebURL',\n",
       "  'description': None,\n",
       "  'mutable': True,\n",
       "  'no_delete': True,\n",
       "  'superclass': 'z2bYAxC',\n",
       "  'attrs': ['1', 'z3fccCT', 'z29C1F6', 'z2lTK9H'],\n",
       "  '_userId': '6120684fafa34ff19956958dd5d6ffbe',\n",
       "  'extension_name': 'z11VNPVlTd',\n",
       "  'appDefined': True},\n",
       " ('File', 'z1JcPCa'): {'_id': 'z1JcPCa',\n",
       "  'name': 'File',\n",
       "  'description': None,\n",
       "  'mutable': False,\n",
       "  'no_delete': True,\n",
       "  'superclass': 'z2bYAxC',\n",
       "  'attrs': ['1', 'z3fccCT', 'z29C1F6', 'z3jGLyJ'],\n",
       "  '_userId': '6120684fafa34ff19956958dd5d6ffbe',\n",
       "  'extension_name': 'TzcEiSO5',\n",
       "  'appDefined': 'on'},\n",
       " ('Folder', 'z38a9yE'): {'_id': 'z38a9yE',\n",
       "  'name': 'Folder',\n",
       "  'description': None,\n",
       "  'mutable': False,\n",
       "  'no_delete': True,\n",
       "  'superclass': 'z2bYAxC',\n",
       "  'attrs': ['1', 'z3fccCT', 'z29C1F6', 'z1Xvf6p'],\n",
       "  '_userId': '6120684fafa34ff19956958dd5d6ffbe',\n",
       "  'extension_name': 'z143DrAc1L',\n",
       "  'appDefined': 'on'},\n",
       " ('DropboxInfo', 'z4wnwvr'): {'_id': 'z4wnwvr',\n",
       "  'name': 'DropboxInfo',\n",
       "  'description': None,\n",
       "  'mutable': False,\n",
       "  'no_delete': True,\n",
       "  'superclass': 'r00t',\n",
       "  'attrs': ['1', 'z3paynw', 'z2rwCEi'],\n",
       "  '_userId': '6120684fafa34ff19956958dd5d6ffbe',\n",
       "  'extension_name': 'iEuwkfwl',\n",
       "  'appDefined': 'on'},\n",
       " ('EvernoteInfo', 'xyafh'): {'_id': 'xyafh',\n",
       "  'name': 'EvernoteInfo',\n",
       "  'description': None,\n",
       "  'mutable': False,\n",
       "  'no_delete': True,\n",
       "  'superclass': 'r00t',\n",
       "  'attrs': ['1', 'uVLv1'],\n",
       "  '_userId': '6120684fafa34ff19956958dd5d6ffbe',\n",
       "  'extension_name': 'z1bnSA7m7Z',\n",
       "  'appDefined': True},\n",
       " ('Address', 'z1dcC6y'): {'_id': 'z1dcC6y',\n",
       "  'name': 'Address',\n",
       "  'description': None,\n",
       "  'mutable': False,\n",
       "  'no_delete': True,\n",
       "  'superclass': 'r00t',\n",
       "  'attrs': ['1', 'z30t9vX', 'z1dtvAX', 'jKBm2', 'tWeF', 'z3HUJXD', 'FxfHR'],\n",
       "  '_userId': '6120684fafa34ff19956958dd5d6ffbe',\n",
       "  'extension_name': 'CH4QXPPa',\n",
       "  'appDefined': True},\n",
       " ('Phone', 'z4vzmf8'): {'_id': 'z4vzmf8',\n",
       "  'name': 'Phone',\n",
       "  'description': None,\n",
       "  'mutable': False,\n",
       "  'no_delete': True,\n",
       "  'superclass': 'r00t',\n",
       "  'attrs': ['1', 'z3AA62v', 'z4eUUv0'],\n",
       "  '_userId': '6120684fafa34ff19956958dd5d6ffbe',\n",
       "  'extension_name': 'lLAagGe2',\n",
       "  'appDefined': 'on'},\n",
       " ('Person', 'z3vxTdJ'): {'_id': 'z3vxTdJ',\n",
       "  'name': 'Person',\n",
       "  'description': None,\n",
       "  'mutable': False,\n",
       "  'no_delete': True,\n",
       "  'superclass': 'z2bYAxC',\n",
       "  'attrs': ['1',\n",
       "   'z3fccCT',\n",
       "   'z29C1F6',\n",
       "   'z3WVuCO',\n",
       "   'z2aDnBZ',\n",
       "   'z1v00it',\n",
       "   'z3c3TCg',\n",
       "   'yhMjE',\n",
       "   'z4rMs6c'],\n",
       "  'instance_detail_roles': [['has_phone', '[Phones]'],\n",
       "   ['mailing_address', 'Address']],\n",
       "  '_userId': '6120684fafa34ff19956958dd5d6ffbe',\n",
       "  'extension_name': 'Fyxy9SV8',\n",
       "  'appDefined': 'on',\n",
       "  'short_form': ['z3WVuCO']},\n",
       " ('Note', '6HuTE4'): {'_id': '6HuTE4',\n",
       "  'name': 'Note',\n",
       "  'sysDefined': False,\n",
       "  'appDefined': False,\n",
       "  'mutable': True,\n",
       "  'description': '',\n",
       "  'attrs': ['1'],\n",
       "  'superclass': 'r00t',\n",
       "  '_userId': '6120684fafa34ff19956958dd5d6ffbe',\n",
       "  'extension_name': 'z1bFZxj53C'}}"
      ]
     },
     "execution_count": 14,
     "metadata": {},
     "output_type": "execute_result"
    }
   ],
   "source": [
    "apps = await (await service.applications()).find()\n",
    "print(len(apps))\n",
    "app = apps[0]\n",
    "print(app.keys())\n",
    "def classes_by_keys(src):\n",
    "    return {(c['name'], c['_id']): c for c in src}\n",
    "print(app['admin_user'])\n",
    "classes_by_keys(meta['classes'].values())"
   ]
  },
  {
   "cell_type": "code",
   "execution_count": 13,
   "metadata": {},
   "outputs": [
    {
     "data": {
      "text/plain": [
       "{'r00t': {'_id': 'r00t',\n",
       "  'name': 'PersistentObject',\n",
       "  'description': None,\n",
       "  'mutable': False,\n",
       "  'no_delete': False,\n",
       "  'superclass': None,\n",
       "  'attrs': ['1'],\n",
       "  '_userId': '6120684fafa34ff19956958dd5d6ffbe',\n",
       "  'extension_name': 'f2NlYjWs',\n",
       "  'appDefined': True},\n",
       " 'z2bYAxC': {'_id': 'z2bYAxC',\n",
       "  'name': 'DescribedComponent',\n",
       "  'description': None,\n",
       "  'mutable': False,\n",
       "  'no_delete': True,\n",
       "  'superclass': 'r00t',\n",
       "  'attrs': ['1', 'z3fccCT', 'z29C1F6'],\n",
       "  '_userId': '6120684fafa34ff19956958dd5d6ffbe',\n",
       "  'extension_name': 'TntAmgaH',\n",
       "  'appDefined': True},\n",
       " 'z1qDwX6': {'_id': 'z1qDwX6',\n",
       "  'name': 'WebURL',\n",
       "  'description': None,\n",
       "  'mutable': True,\n",
       "  'no_delete': True,\n",
       "  'superclass': 'z2bYAxC',\n",
       "  'attrs': ['1', 'z3fccCT', 'z29C1F6', 'z2lTK9H'],\n",
       "  '_userId': '6120684fafa34ff19956958dd5d6ffbe',\n",
       "  'extension_name': 'z11VNPVlTd',\n",
       "  'appDefined': True},\n",
       " 'z1JcPCa': {'_id': 'z1JcPCa',\n",
       "  'name': 'File',\n",
       "  'description': None,\n",
       "  'mutable': False,\n",
       "  'no_delete': True,\n",
       "  'superclass': 'z2bYAxC',\n",
       "  'attrs': ['1', 'z3fccCT', 'z29C1F6', 'z3jGLyJ'],\n",
       "  '_userId': '6120684fafa34ff19956958dd5d6ffbe',\n",
       "  'extension_name': 'TzcEiSO5',\n",
       "  'appDefined': 'on'},\n",
       " 'z38a9yE': {'_id': 'z38a9yE',\n",
       "  'name': 'Folder',\n",
       "  'description': None,\n",
       "  'mutable': False,\n",
       "  'no_delete': True,\n",
       "  'superclass': 'z2bYAxC',\n",
       "  'attrs': ['1', 'z3fccCT', 'z29C1F6', 'z1Xvf6p'],\n",
       "  '_userId': '6120684fafa34ff19956958dd5d6ffbe',\n",
       "  'extension_name': 'z143DrAc1L',\n",
       "  'appDefined': 'on'},\n",
       " 'z4wnwvr': {'_id': 'z4wnwvr',\n",
       "  'name': 'DropboxInfo',\n",
       "  'description': None,\n",
       "  'mutable': False,\n",
       "  'no_delete': True,\n",
       "  'superclass': 'r00t',\n",
       "  'attrs': ['1', 'z3paynw', 'z2rwCEi'],\n",
       "  '_userId': '6120684fafa34ff19956958dd5d6ffbe',\n",
       "  'extension_name': 'iEuwkfwl',\n",
       "  'appDefined': 'on'},\n",
       " 'xyafh': {'_id': 'xyafh',\n",
       "  'name': 'EvernoteInfo',\n",
       "  'description': None,\n",
       "  'mutable': False,\n",
       "  'no_delete': True,\n",
       "  'superclass': 'r00t',\n",
       "  'attrs': ['1', 'uVLv1'],\n",
       "  '_userId': '6120684fafa34ff19956958dd5d6ffbe',\n",
       "  'extension_name': 'z1bnSA7m7Z',\n",
       "  'appDefined': True},\n",
       " 'z1dcC6y': {'_id': 'z1dcC6y',\n",
       "  'name': 'Address',\n",
       "  'description': None,\n",
       "  'mutable': False,\n",
       "  'no_delete': True,\n",
       "  'superclass': 'r00t',\n",
       "  'attrs': ['1', 'z30t9vX', 'z1dtvAX', 'jKBm2', 'tWeF', 'z3HUJXD', 'FxfHR'],\n",
       "  '_userId': '6120684fafa34ff19956958dd5d6ffbe',\n",
       "  'extension_name': 'CH4QXPPa',\n",
       "  'appDefined': True},\n",
       " 'z4vzmf8': {'_id': 'z4vzmf8',\n",
       "  'name': 'Phone',\n",
       "  'description': None,\n",
       "  'mutable': False,\n",
       "  'no_delete': True,\n",
       "  'superclass': 'r00t',\n",
       "  'attrs': ['1', 'z3AA62v', 'z4eUUv0'],\n",
       "  '_userId': '6120684fafa34ff19956958dd5d6ffbe',\n",
       "  'extension_name': 'lLAagGe2',\n",
       "  'appDefined': 'on'},\n",
       " 'z3vxTdJ': {'_id': 'z3vxTdJ',\n",
       "  'name': 'Person',\n",
       "  'description': None,\n",
       "  'mutable': False,\n",
       "  'no_delete': True,\n",
       "  'superclass': 'z2bYAxC',\n",
       "  'attrs': ['1',\n",
       "   'z3fccCT',\n",
       "   'z29C1F6',\n",
       "   'z3WVuCO',\n",
       "   'z2aDnBZ',\n",
       "   'z1v00it',\n",
       "   'z3c3TCg',\n",
       "   'yhMjE',\n",
       "   'z4rMs6c'],\n",
       "  'instance_detail_roles': [['has_phone', '[Phones]'],\n",
       "   ['mailing_address', 'Address']],\n",
       "  '_userId': '6120684fafa34ff19956958dd5d6ffbe',\n",
       "  'extension_name': 'Fyxy9SV8',\n",
       "  'appDefined': 'on',\n",
       "  'short_form': ['z3WVuCO']},\n",
       " '6HuTE4': {'_id': '6HuTE4',\n",
       "  'name': 'Note',\n",
       "  'sysDefined': False,\n",
       "  'appDefined': False,\n",
       "  'mutable': True,\n",
       "  'description': '',\n",
       "  'attrs': ['1'],\n",
       "  'superclass': 'r00t',\n",
       "  '_userId': '6120684fafa34ff19956958dd5d6ffbe',\n",
       "  'extension_name': 'z1bFZxj53C'}}"
      ]
     },
     "execution_count": 13,
     "metadata": {},
     "output_type": "execute_result"
    }
   ],
   "source": [
    "meta['classes']"
   ]
  },
  {
   "cell_type": "code",
   "execution_count": 12,
   "metadata": {},
   "outputs": [
    {
     "data": {
      "text/plain": [
       "dict_keys(['classes', 'attributes', 'roles', 'tags', 'groups', 'queries'])"
      ]
     },
     "execution_count": 12,
     "metadata": {},
     "output_type": "execute_result"
    }
   ],
   "source": [
    "meta.keys()"
   ]
  },
  {
   "cell_type": "code",
   "execution_count": null,
   "metadata": {},
   "outputs": [],
   "source": []
  }
 ],
 "metadata": {
  "kernelspec": {
   "display_name": "Python 3",
   "language": "python",
   "name": "python3"
  },
  "language_info": {
   "codemirror_mode": {
    "name": "ipython",
    "version": 3
   },
   "file_extension": ".py",
   "mimetype": "text/x-python",
   "name": "python",
   "nbconvert_exporter": "python",
   "pygments_lexer": "ipython3",
   "version": "3.8.6"
  }
 },
 "nbformat": 4,
 "nbformat_minor": 4
}
